{
  "cells": [
    {
      "cell_type": "code",
      "execution_count": null,
      "metadata": {
        "id": "Ty3jaPICv89f"
      },
      "outputs": [],
      "source": [
        "import pandas as pd\n",
        "import numpy as np\n",
        "from textblob import TextBlob\n",
        "import matplotlib.pyplot as plt\n",
        "import seaborn as sns"
      ]
    },
    {
      "cell_type": "code",
      "execution_count": 20,
      "metadata": {
        "colab": {
          "base_uri": "https://localhost:8080/"
        },
        "id": "AfcDcsytxF60",
        "outputId": "6fa1b136-3ec5-4e20-a6d9-d32d5efc6f14"
      },
      "outputs": [
        {
          "name": "stdout",
          "output_type": "stream",
          "text": [
            "CSV file loaded successfully.\n",
            "   Unnamed: 0                                           headline  \\\n",
            "0           0            Stocks That Hit 52-Week Highs On Friday   \n",
            "1           1         Stocks That Hit 52-Week Highs On Wednesday   \n",
            "2           2                      71 Biggest Movers From Friday   \n",
            "3           3       46 Stocks Moving In Friday's Mid-Day Session   \n",
            "4           4  B of A Securities Maintains Neutral on Agilent...   \n",
            "\n",
            "                                                 url          publisher  \\\n",
            "0  https://www.benzinga.com/news/20/06/16190091/s...  Benzinga Insights   \n",
            "1  https://www.benzinga.com/news/20/06/16170189/s...  Benzinga Insights   \n",
            "2  https://www.benzinga.com/news/20/05/16103463/7...         Lisa Levin   \n",
            "3  https://www.benzinga.com/news/20/05/16095921/4...         Lisa Levin   \n",
            "4  https://www.benzinga.com/news/20/05/16095304/b...         Vick Meyer   \n",
            "\n",
            "                        date stock  \n",
            "0  2020-06-05 10:30:54-04:00     A  \n",
            "1  2020-06-03 10:45:20-04:00     A  \n",
            "2  2020-05-26 04:30:07-04:00     A  \n",
            "3  2020-05-22 12:45:06-04:00     A  \n",
            "4  2020-05-22 11:38:59-04:00     A  \n"
          ]
        }
      ],
      "source": [
        "text_data = '/content/raw_analyst_ratings.csv'\n",
        "\n",
        "try:\n",
        "    df_csv = pd.read_csv(text_data, engine='python')\n",
        "    print(\"CSV file loaded successfully.\")\n",
        "    print(df_csv.head())\n",
        "except FileNotFoundError:\n",
        "    print(f\"Error: The file '{text_data}' was not found.\")\n",
        "except Exception as e:\n",
        "    print(f\"An error occurred while loading the CSV file: {e}\")"
      ]
    },
    {
      "cell_type": "code",
      "execution_count": 21,
      "metadata": {
        "colab": {
          "base_uri": "https://localhost:8080/",
          "height": 458
        },
        "id": "Poz5qSfvyMgb",
        "outputId": "1abbd925-7f77-409d-aa24-a17482e65073"
      },
      "outputs": [
        {
          "data": {
            "text/html": [
              "<div>\n",
              "<style scoped>\n",
              "    .dataframe tbody tr th:only-of-type {\n",
              "        vertical-align: middle;\n",
              "    }\n",
              "\n",
              "    .dataframe tbody tr th {\n",
              "        vertical-align: top;\n",
              "    }\n",
              "\n",
              "    .dataframe thead th {\n",
              "        text-align: right;\n",
              "    }\n",
              "</style>\n",
              "<table border=\"1\" class=\"dataframe\">\n",
              "  <thead>\n",
              "    <tr style=\"text-align: right;\">\n",
              "      <th></th>\n",
              "      <th>headline</th>\n",
              "    </tr>\n",
              "  </thead>\n",
              "  <tbody>\n",
              "    <tr>\n",
              "      <th>0</th>\n",
              "      <td>Stocks That Hit 52-Week Highs On Friday</td>\n",
              "    </tr>\n",
              "    <tr>\n",
              "      <th>1</th>\n",
              "      <td>Stocks That Hit 52-Week Highs On Wednesday</td>\n",
              "    </tr>\n",
              "    <tr>\n",
              "      <th>2</th>\n",
              "      <td>71 Biggest Movers From Friday</td>\n",
              "    </tr>\n",
              "    <tr>\n",
              "      <th>3</th>\n",
              "      <td>46 Stocks Moving In Friday's Mid-Day Session</td>\n",
              "    </tr>\n",
              "    <tr>\n",
              "      <th>4</th>\n",
              "      <td>B of A Securities Maintains Neutral on Agilent...</td>\n",
              "    </tr>\n",
              "    <tr>\n",
              "      <th>...</th>\n",
              "      <td>...</td>\n",
              "    </tr>\n",
              "    <tr>\n",
              "      <th>279404</th>\n",
              "      <td>Cooper Companies Spiking Lower on Heavy Volume</td>\n",
              "    </tr>\n",
              "    <tr>\n",
              "      <th>279405</th>\n",
              "      <td>Oppenheimer: Salesforce.com Has New COO</td>\n",
              "    </tr>\n",
              "    <tr>\n",
              "      <th>279406</th>\n",
              "      <td>Morgan Keegan Lowers PT on The Cooper Companie...</td>\n",
              "    </tr>\n",
              "    <tr>\n",
              "      <th>279407</th>\n",
              "      <td>Mad Money Lightning Round: Cramer Likes Apache</td>\n",
              "    </tr>\n",
              "    <tr>\n",
              "      <th>279408</th>\n",
              "      <td>Morgan Keegan Maintains Outperform on The Coop...</td>\n",
              "    </tr>\n",
              "  </tbody>\n",
              "</table>\n",
              "<p>279409 rows × 1 columns</p>\n",
              "</div><br><label><b>dtype:</b> object</label>"
            ],
            "text/plain": [
              "0                   Stocks That Hit 52-Week Highs On Friday\n",
              "1                Stocks That Hit 52-Week Highs On Wednesday\n",
              "2                             71 Biggest Movers From Friday\n",
              "3              46 Stocks Moving In Friday's Mid-Day Session\n",
              "4         B of A Securities Maintains Neutral on Agilent...\n",
              "                                ...                        \n",
              "279404       Cooper Companies Spiking Lower on Heavy Volume\n",
              "279405              Oppenheimer: Salesforce.com Has New COO\n",
              "279406    Morgan Keegan Lowers PT on The Cooper Companie...\n",
              "279407       Mad Money Lightning Round: Cramer Likes Apache\n",
              "279408    Morgan Keegan Maintains Outperform on The Coop...\n",
              "Name: headline, Length: 279409, dtype: object"
            ]
          },
          "execution_count": 21,
          "metadata": {},
          "output_type": "execute_result"
        }
      ],
      "source": [
        "df_csv['headline']"
      ]
    },
    {
      "cell_type": "code",
      "execution_count": 22,
      "metadata": {
        "id": "46FW3Q1QviaD"
      },
      "outputs": [],
      "source": [
        "def calculate_sentiment(text):\n",
        "    return TextBlob(text).sentiment.polarity"
      ]
    },
    {
      "cell_type": "code",
      "execution_count": 24,
      "metadata": {
        "colab": {
          "base_uri": "https://localhost:8080/"
        },
        "id": "i1z0nttiZ22T",
        "outputId": "3cfc2a91-6975-4601-b971-a92ae0e88014"
      },
      "outputs": [
        {
          "name": "stdout",
          "output_type": "stream",
          "text": [
            "Sentiment analysis completed.\n"
          ]
        }
      ],
      "source": [
        "try:\n",
        "    df_csv['Sentiment'] = df_csv['headline'].apply(calculate_sentiment)\n",
        "    print(\"Sentiment analysis completed.\")\n",
        "except Exception as e:\n",
        "    print(f\"An error occurred during sentiment analysis: {e}\")"
      ]
    },
    {
      "cell_type": "code",
      "execution_count": 26,
      "metadata": {
        "colab": {
          "base_uri": "https://localhost:8080/"
        },
        "id": "92JLAKVLZ_EH",
        "outputId": "c20b1d61-dac6-4c8a-806f-4874b3306163"
      },
      "outputs": [
        {
          "name": "stdout",
          "output_type": "stream",
          "text": [
            "Sentiment analysis results saved to news_with_sentiment.csv\n"
          ]
        }
      ],
      "source": [
        "# Save results to CSV\n",
        "output_file = 'news_with_sentiment.csv'\n",
        "df_csv.to_csv(output_file, index=False)\n",
        "print(f\"Sentiment analysis results saved to {output_file}\")"
      ]
    },
    {
      "cell_type": "code",
      "execution_count": 28,
      "metadata": {
        "colab": {
          "base_uri": "https://localhost:8080/",
          "height": 17
        },
        "id": "EWJueYN3aB5p",
        "outputId": "25031244-237d-4702-abb6-e01c15096bd4"
      },
      "outputs": [
        {
          "data": {
            "application/javascript": "\n    async function download(id, filename, size) {\n      if (!google.colab.kernel.accessAllowed) {\n        return;\n      }\n      const div = document.createElement('div');\n      const label = document.createElement('label');\n      label.textContent = `Downloading \"${filename}\": `;\n      div.appendChild(label);\n      const progress = document.createElement('progress');\n      progress.max = size;\n      div.appendChild(progress);\n      document.body.appendChild(div);\n\n      const buffers = [];\n      let downloaded = 0;\n\n      const channel = await google.colab.kernel.comms.open(id);\n      // Send a message to notify the kernel that we're ready.\n      channel.send({})\n\n      for await (const message of channel.messages) {\n        // Send a message to notify the kernel that we're ready.\n        channel.send({})\n        if (message.buffers) {\n          for (const buffer of message.buffers) {\n            buffers.push(buffer);\n            downloaded += buffer.byteLength;\n            progress.value = downloaded;\n          }\n        }\n      }\n      const blob = new Blob(buffers, {type: 'application/binary'});\n      const a = document.createElement('a');\n      a.href = window.URL.createObjectURL(blob);\n      a.download = filename;\n      div.appendChild(a);\n      a.click();\n      div.remove();\n    }\n  ",
            "text/plain": [
              "<IPython.core.display.Javascript object>"
            ]
          },
          "metadata": {},
          "output_type": "display_data"
        },
        {
          "data": {
            "application/javascript": "download(\"download_aed19499-9041-4604-9848-fd054f6cd608\", \"news_with_sentiment.csv\", 68333010)",
            "text/plain": [
              "<IPython.core.display.Javascript object>"
            ]
          },
          "metadata": {},
          "output_type": "display_data"
        }
      ],
      "source": [
        "# Download the CSV to your local machine\n",
        "files.download(output_file)"
      ]
    },
    {
      "cell_type": "code",
      "execution_count": null,
      "metadata": {
        "id": "8yX125_2v7g6"
      },
      "outputs": [],
      "source": [
        "df_csv.head()"
      ]
    },
    {
      "cell_type": "code",
      "execution_count": 25,
      "metadata": {
        "colab": {
          "base_uri": "https://localhost:8080/",
          "height": 1000
        },
        "id": "h0yFqHWe6Xl3",
        "outputId": "464f87b8-426f-4102-ff74-22415850d21a"
      },
      "outputs": [
        {
          "name": "stdout",
          "output_type": "stream",
          "text": [
            "Descriptive statistics for 'headline' column:\n",
            "count                      279409\n",
            "unique                     202980\n",
            "top       Benzinga's Top Upgrades\n",
            "freq                         1159\n",
            "Name: headline, dtype: object\n",
            "\n",
            "Missing values in 'headline' column:\n",
            "0\n",
            "\n",
            "Number of unique headlines:\n",
            "202980\n",
            "\n",
            "Most frequent headlines:\n",
            "headline\n",
            "Benzinga's Top Upgrades                     1159\n",
            "Benzinga's Top Downgrades                   1051\n",
            "Stocks That Hit 52-Week Lows On Thursday     842\n",
            "Benzinga's Top Initiations                   813\n",
            "Morning Market Losers                        708\n",
            "Name: count, dtype: int64\n",
            "\n",
            "Sentiment distribution:\n",
            "count    279409.000000\n",
            "mean          0.049823\n",
            "std           0.185717\n",
            "min          -1.000000\n",
            "25%           0.000000\n",
            "50%           0.000000\n",
            "75%           0.000000\n",
            "max           1.000000\n",
            "Name: Sentiment, dtype: float64\n"
          ]
        },
        {
          "data": {
            "image/png": "[encoded data removed]",
            "text/plain": [
              "<Figure size 800x400 with 1 Axes>"
            ]
          },
          "metadata": {},
          "output_type": "display_data"
        },
        {
          "name": "stdout",
          "output_type": "stream",
          "text": [
            "\n",
            "Most Positive Headlines:\n",
            "                                               headline  Sentiment\n",
            "819            Best Buy: Analysts' Upgrades, Downgrades        1.0\n",
            "1343    OneMove(TM) Records its Best Month Ever in July        1.0\n",
            "1382  Klondike Silver Completes Underground Drilling...        1.0\n",
            "1849                             10 Best Stocks Of 2017        1.0\n",
            "2270          Miners: The Best Way To Play A Rate Hike?        1.0\n",
            "\n",
            "Most Negative Headlines:\n",
            "                                               headline  Sentiment\n",
            "2552  Tech, Semiconductors Among Worst Performers As...       -1.0\n",
            "3175               I've just made a horrible investment       -1.0\n",
            "5658   Worst Performing Industries For October 13, 2016       -1.0\n",
            "5710   Worst Performing Industries For December 2, 2014       -1.0\n",
            "6100                            10 Worst Stocks Of 2017       -1.0\n"
          ]
        }
      ],
      "source": [
        "# Display descriptive statistics for the 'headline' column\n",
        "print(\"Descriptive statistics for 'headline' column:\")\n",
        "print(df_csv['headline'].describe())\n",
        "\n",
        "# Check for missing values in the 'headline' column\n",
        "print(\"\\nMissing values in 'headline' column:\")\n",
        "print(df_csv['headline'].isnull().sum())\n",
        "\n",
        "# Get the number of unique headlines\n",
        "print(\"\\nNumber of unique headlines:\")\n",
        "print(df_csv['headline'].nunique())\n",
        "\n",
        "# Display the most frequent headlines\n",
        "print(\"\\nMost frequent headlines:\")\n",
        "print(df_csv['headline'].value_counts().head())\n",
        "\n",
        "# You can further analyze the distribution of sentiment scores calculated earlier\n",
        "print(\"\\nSentiment distribution:\")\n",
        "print(df_csv['Sentiment'].describe())\n",
        "\n",
        "# Plot the distribution of sentiment scores\n",
        "plt.figure(figsize=(8, 4))\n",
        "sns.histplot(df_csv['Sentiment'], bins=20, kde=True)\n",
        "plt.title('Distribution of Sentiment Scores for Headlines')\n",
        "plt.xlabel('Sentiment Polarity')\n",
        "plt.ylabel('Frequency')\n",
        "plt.gca().spines[['top', 'right']].set_visible(False)\n",
        "plt.show()\n",
        "\n",
        "# Analyze the sentiment of the most positive and negative headlines\n",
        "most_positive_headlines = df_csv.nlargest(5, 'Sentiment')\n",
        "print(\"\\nMost Positive Headlines:\")\n",
        "print(most_positive_headlines[['headline', 'Sentiment']])\n",
        "\n",
        "most_negative_headlines = df_csv.nsmallest(5, 'Sentiment')\n",
        "print(\"\\nMost Negative Headlines:\")\n",
        "print(most_negative_headlines[['headline', 'Sentiment']])"
      ]
    },
    {
      "cell_type": "code",
      "execution_count": null,
      "metadata": {
        "colab": {
          "base_uri": "https://localhost:8080/"
        },
        "id": "r2WRQJmZNpu5",
        "outputId": "0683e9ed-dd94-40be-d212-8f60bed8c998"
      },
      "outputs": [
        {
          "name": "stdout",
          "output_type": "stream",
          "text": [
            "      Unnamed: 0                                           headline  \\\n",
            "6680        7120  Tech Stocks And FAANGS Strong Again To Start D...   \n",
            "6681        7121      10 Biggest Price Target Changes For Wednesday   \n",
            "6682        7122  Benzinga Pro's Top 5 Stocks To Watch For Wed.,...   \n",
            "6683        7123  Deutsche Bank Maintains Buy on Apple, Raises P...   \n",
            "6684        7124  Apple To Let Users Trade In Their Mac Computer...   \n",
            "...          ...                                                ...   \n",
            "7116        7585  UBS Maintains Buy on Apple, Lowers Price Targe...   \n",
            "7117        7586                  123 Biggest Movers From Yesterday   \n",
            "7118        7587  Crude Awakening: Energy Sector Takes A 20% Spi...   \n",
            "7119        7588     Investor Movement Index Summary: February 2020   \n",
            "7120        7589      101 Stocks Moving In Monday's Mid-Day Session   \n",
            "\n",
            "                                                    url          publisher  \\\n",
            "6680  https://www.benzinga.com/government/20/06/1622...         JJ Kinahan   \n",
            "6681  https://www.benzinga.com/analyst-ratings/price...         Lisa Levin   \n",
            "6682  https://www.benzinga.com/short-sellers/20/06/1...  Benzinga Newsdesk   \n",
            "6683  https://www.benzinga.com/news/20/06/16219873/d...  Benzinga Newsdesk   \n",
            "6684  https://www.benzinga.com/news/20/06/16218697/a...      Neer Varshney   \n",
            "...                                                 ...                ...   \n",
            "7116  https://www.benzinga.com/news/20/03/15514989/u...         Vick Meyer   \n",
            "7117  https://www.benzinga.com/news/20/03/15514298/1...         Lisa Levin   \n",
            "7118  https://www.benzinga.com/news/earnings/20/03/1...         JJ Kinahan   \n",
            "7119  https://www.benzinga.com/news/earnings/20/03/1...      TD Ameritrade   \n",
            "7120  https://www.benzinga.com/news/20/03/15508983/1...         Lisa Levin   \n",
            "\n",
            "                           date stock  \n",
            "6680  2020-06-10 11:33:26-04:00  AAPL  \n",
            "6681  2020-06-10 08:14:08-04:00  AAPL  \n",
            "6682  2020-06-10 07:53:47-04:00  AAPL  \n",
            "6683  2020-06-10 07:19:25-04:00  AAPL  \n",
            "6684  2020-06-10 06:27:11-04:00  AAPL  \n",
            "...                         ...   ...  \n",
            "7116        2020-03-10 00:00:00  AAPL  \n",
            "7117        2020-03-10 00:00:00  AAPL  \n",
            "7118        2020-03-09 00:00:00  AAPL  \n",
            "7119        2020-03-09 00:00:00  AAPL  \n",
            "7120        2020-03-09 00:00:00  AAPL  \n",
            "\n",
            "[441 rows x 6 columns]\n"
          ]
        }
      ],
      "source": [
        "result = df_csv[df_csv['stock'] == \"AAPL\"]\n",
        "print(result)"
      ]
    },
    {
      "cell_type": "code",
      "execution_count": null,
      "metadata": {
        "colab": {
          "base_uri": "https://localhost:8080/"
        },
        "id": "0-qmprGNOFh4",
        "outputId": "f83c2790-099c-4c52-fc56-f680d8e44316"
      },
      "outputs": [
        {
          "name": "stdout",
          "output_type": "stream",
          "text": [
            "        Unnamed: 0                                           headline  \\\n",
            "473873      476431  As Expected: Fed Keeps Rates Unchanged and For...   \n",
            "473874      476432  Facebook, Snap Analyst Projects Q2 Revenue Ups...   \n",
            "473875      476433  Tech Stocks And FAANGS Strong Again To Start D...   \n",
            "473876      476434  Big Tech Reaches New Record Heights At The Sto...   \n",
            "473877      476435  Twitter, Square Will Mark Juneteenth As Holida...   \n",
            "...            ...                                                ...   \n",
            "474248      476816  Facebook To Pay Users $5 For Their Voice Recor...   \n",
            "474249      476817  No More Immunity? Justice Department Wants Tec...   \n",
            "474250      476818  Peter Thiel-Backed Startup Begins Mining Bitco...   \n",
            "474251      476819  Bloomberg Pays People To Promote His Campaign ...   \n",
            "474252      476820  Calendar Apps Can Do Wonders And Not Only For ...   \n",
            "\n",
            "                                                      url          publisher  \\\n",
            "473873  https://www.benzinga.com/news/20/06/16226512/a...         JJ Kinahan   \n",
            "473874  https://www.benzinga.com/analyst-ratings/analy...   Shanthi Rexaline   \n",
            "473875  https://www.benzinga.com/government/20/06/1622...         JJ Kinahan   \n",
            "473876  https://www.benzinga.com/news/20/06/16218615/b...      Neer Varshney   \n",
            "473877  https://www.benzinga.com/news/20/06/16218441/t...  Shivdeep Dhaliwal   \n",
            "...                                                   ...                ...   \n",
            "474248  https://www.benzinga.com/news/20/02/15381956/f...      Neer Varshney   \n",
            "474249  https://www.benzinga.com/government/20/02/1537...      Neer Varshney   \n",
            "474250  https://www.benzinga.com/markets/cryptocurrenc...      Neer Varshney   \n",
            "474251  https://www.benzinga.com/news/20/02/15371694/b...      Neer Varshney   \n",
            "474252  https://www.benzinga.com/news/20/02/15364635/c...       IAM Newswire   \n",
            "\n",
            "                             date stock  \n",
            "473873  2020-06-10 16:20:19-04:00    FB  \n",
            "473874  2020-06-10 15:25:13-04:00    FB  \n",
            "473875  2020-06-10 11:33:26-04:00    FB  \n",
            "473876  2020-06-10 00:52:01-04:00    FB  \n",
            "473877  2020-06-10 00:28:00-04:00    FB  \n",
            "...                           ...   ...  \n",
            "474248        2020-02-21 00:00:00    FB  \n",
            "474249        2020-02-20 00:00:00    FB  \n",
            "474250        2020-02-20 00:00:00    FB  \n",
            "474251        2020-02-19 00:00:00    FB  \n",
            "474252        2020-02-19 00:00:00    FB  \n",
            "\n",
            "[380 rows x 6 columns]\n"
          ]
        }
      ],
      "source": [
        "result = df_csv[df_csv['stock'] == \"FB\"]\n",
        "print(result)"
      ]
    }
  ],
  "metadata": {
    "colab": {
      "provenance": []
    },
    "kernelspec": {
      "display_name": "venv",
      "language": "python",
      "name": "python3"
    },
    "language_info": {
      "name": "python",
      "version": "3.11.7"
    }
  },
  "nbformat": 4,
  "nbformat_minor": 0
}
